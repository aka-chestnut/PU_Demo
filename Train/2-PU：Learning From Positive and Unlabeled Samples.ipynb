{
 "cells": [
  {
   "cell_type": "code",
   "execution_count": null,
   "metadata": {
    "colab": {},
    "colab_type": "code",
    "id": "OrmPwC6Fl7ET"
   },
   "outputs": [],
   "source": [
    "import sklearn\n",
    "import numpy as np\n",
    "import pandas as pd\n",
    "from pprint import pprint\n",
    "import timeit\n",
    "import random\n",
    "from matplotlib import pyplot as plt\n",
    "import seaborn as sns\n",
    "import warnings\n",
    "import plotly as py\n",
    "import plotly.graph_objs as go\n",
    "from matplotlib.pylab import style\n",
    "style.use('ggplot')    \n",
    "plt.rcParams['font.sans-serif']=['SimHei']\n",
    "plt.rcParams['axes.unicode_minus'] = False  \n",
    "warnings.simplefilter('ignore')"
   ]
  },
  {
   "cell_type": "code",
   "execution_count": null,
   "metadata": {
    "colab": {},
    "colab_type": "code",
    "id": "gm-FTX37n2eb"
   },
   "outputs": [],
   "source": [
    "train_data = pd.read_csv('sample_train20000_80.csv')\n",
    "X = train_data.drop('target',axis=1)\n",
    "y = train_data['target']\n",
    "del train_data"
   ]
  },
  {
   "cell_type": "code",
   "execution_count": null,
   "metadata": {
    "colab": {},
    "colab_type": "code",
    "id": "SWzX2FPKpPCr"
   },
   "outputs": [],
   "source": [
    "from scipy.stats import ks_2samp\n",
    "from xgboost import XGBClassifier\n",
    "from sklearn.model_selection import KFold\n",
    "from sklearn.model_selection import GridSearchCV\n",
    "from sklearn import metrics\n",
    "\n",
    "import time\n",
    "from pprint import pprint\n",
    "class XGBPipeline():\n",
    "    def __init__(self,X_train,X_test,y_train,y_test):\n",
    "        self.X_train = X_train\n",
    "        self.y_train = y_train       \n",
    "        self.X_test = X_test    \n",
    "        self.y_test = y_test\n",
    "    \n",
    "    def get_ks(self,y_true,y_pred):\n",
    "        return ks_2samp(y_pred[y_true==1], y_pred[y_true!=1]).statistic\n",
    "    \n",
    "    def timer (func):\n",
    "        def wrapper(*args,**kwargs): \n",
    "            start = time.time()\n",
    "            result = func(*args,**kwargs)\n",
    "            end = time.time()\n",
    "            print(func.__name__+'运行时间：','{:.2f}'.format(end-start))\n",
    "            return result\n",
    "        return wrapper\n",
    "    \n",
    "    @timer\n",
    "    def trainall(self,params):\n",
    "      model = XGBClassifier(**params,verbosity=2)\n",
    "      model.fit(pd.concat([self.X_train,self.X_test]),pd.concat([self.y_train,self.y_test]),verbose=True,eval_set=[(self.X_train,self.y_train)],eval_metric='auc')\n",
    "      return model\n",
    "    \n",
    "    @timer\n",
    "    def fit_baseline(self):\n",
    "        params={'booster':'gbtree',\n",
    "                'objective': 'binary:logistic',\n",
    "                'max_depth':5,\n",
    "                'subsample':0.8,\n",
    "                'colsample_bytree':0.8,\n",
    "                'min_child_weight':8,\n",
    "                'learning_rate ': 0.05,\n",
    "                'nthread':-1,\n",
    "                'n_estimators':100,\n",
    "                'updater':'grow_gpu'}\n",
    "        model = XGBClassifier(**params,verbosity=2)\n",
    "        model.fit(self.X_train,self.y_train,verbose=True,eval_set=[(self.X_train,self.y_train)],eval_metric='auc')\n",
    "        self.model_evl(model)\n",
    "        \n",
    "    @timer\n",
    "    def train_model(self,params):\n",
    "        model = XGBClassifier(**params,verbosity=2)\n",
    "        model.fit(self.X_train,self.y_train,verbose=2)\n",
    "        self.model_evl(model)\n",
    "        return model\n",
    "        \n",
    "    @timer\n",
    "    def gridsearch_para(self):\n",
    "        params={'booster':'gbtree',\n",
    "                'objective': 'binary:logistic',\n",
    "                'max_depth':5,\n",
    "                'subsample':0.8,\n",
    "                'colsample_bytree':0.8,\n",
    "                'min_child_weight':8,\n",
    "                'learning_rate ': 0.005,\n",
    "                'nthread':-1,\n",
    "                'n_estimators':100,\n",
    "                'updater':'grow_gpu'}\n",
    "        param_test1 = {'n_estimators':range(40,160,20)}\n",
    "        xgb = XGBClassifier(\n",
    "            **params,\n",
    "            scale_pos_weight=float(len(self.y_train.values)-np.sum(self.y_train.values))/float(np.sum(self.y_train.values)),\n",
    "            seed=2018,\n",
    "            silent=False)\n",
    "        gsearch1 = GridSearchCV(estimator = xgb, param_grid = param_test1, scoring='roc_auc',cv=5,n_jobs=-1)\n",
    "        gsearch1.fit(self.X_train,self.y_train)\n",
    "        params.update(gsearch1.best_params_)\n",
    "        param_test2 = {'max_depth':range(3,7,1)}\n",
    "        xgb = XGBClassifier(\n",
    "            **params,\n",
    "            scale_pos_weight=float(len(self.y_train.values)-np.sum(self.y_train.values))/float(np.sum(self.y_train.values)),\n",
    "            seed=2018,\n",
    "            silent=False)\n",
    "        gsearch2 = GridSearchCV(estimator = xgb, param_grid = param_test2, scoring='roc_auc',cv=5,n_jobs=-1)\n",
    "        gsearch2.fit(self.X_train,self.y_train)\n",
    "        params.update(gsearch2.best_params_)\n",
    "        param_test3 = {'min_child_weight':range(3,9,1)}\n",
    "        xgb = XGBClassifier(\n",
    "            **params,\n",
    "            scale_pos_weight=float(len(self.y_train.values)-np.sum(self.y_train.values))/float(np.sum(self.y_train.values)),\n",
    "            seed=2018,\n",
    "            silent=False)\n",
    "        gsearch3 = GridSearchCV(estimator = xgb, param_grid = param_test3, scoring='roc_auc',cv=5,n_jobs=-1)\n",
    "        gsearch3.fit(self.X_train,self.y_train)\n",
    "        params.update(gsearch3.best_params_)\n",
    "        param_test4 = {\n",
    "         'subsample':[i/10.0 for i in range(7,10,1)],\n",
    "        #  'colsample_bytree':[i/10.0 for i in range(6,10,1)]\n",
    "        }\n",
    "        xgb = XGBClassifier(\n",
    "            **params,\n",
    "            scale_pos_weight=float(len(self.y_train.values)-np.sum(self.y_train.values))/float(np.sum(self.y_train.values)),\n",
    "            seed=2018,\n",
    "            silent=False)\n",
    "        gsearch4 = GridSearchCV(estimator = xgb, param_grid = param_test4, scoring='roc_auc',cv=5,n_jobs=-1)\n",
    "        gsearch4.fit(self.X_train,self.y_train)\n",
    "        params.update(gsearch4.best_params_)\n",
    "        param_test5 = {\n",
    "          'colsample_bytree':[i/10.0 for i in range(7,10,1)]\n",
    "        }\n",
    "        xgb = XGBClassifier(\n",
    "            **params,\n",
    "            scale_pos_weight=float(len(self.y_train.values)-np.sum(self.y_train.values))/float(np.sum(self.y_train.values)),\n",
    "            seed=2018,\n",
    "            silent=False)\n",
    "        gsearch5 = GridSearchCV(estimator = xgb, param_grid = param_test5, scoring='roc_auc',cv=5,n_jobs=-1)\n",
    "        gsearch5.fit(self.X_train,self.y_train)\n",
    "        params.update(gsearch5.best_params_)\n",
    "        params.update({'scale_pos_weight':float(len(self.y_train.values)-np.sum(self.y_train.values))/float(np.sum(self.y_train.values)),\n",
    "            'seed':2018,\n",
    "            'silent':False})\n",
    "        return self.train_model(params),params\n",
    "        \n",
    "    def model_evl(self,model):\n",
    "        pred = model.predict_proba(self.X_test)\n",
    "        pred_y = pred[:,1]\n",
    "        ypred = (pred_y>=0.5)*1 \n",
    "        "
   ]
  },
  {
   "cell_type": "code",
   "execution_count": 54,
   "metadata": {
    "colab": {},
    "colab_type": "code",
    "id": "G1mDpbJNqWg_"
   },
   "outputs": [],
   "source": [
    "\n",
    "from sklearn.model_selection import train_test_split\n",
    "from sklearn import metrics\n",
    "# 论文中两方法的复现\n",
    "# E&N method\n",
    "# 强假设：某个样本为正的概率[P（y = 1 | x）]等于一个样本被标记的概率[P（s = 1 | x）]除以一个正样本被标记的概率[P（s = 1 | y = 1）]\n",
    "# 方法有一定问题，特别是c的估计上，有偏很严重\n",
    "# 方法本质上是对模型选择阈值的一个调节，在实际操作上没有必要这么麻烦，可以直接基于训练集和测试集的划分选出最优的阈值\n",
    "class PUAdjProba(object):\n",
    "  def __init__(self,X_train,X_test,y_train,y_test):\n",
    "    self.X_test = X_test\n",
    "    self.y_test = y_test\n",
    "    self.X_train,self.X_val,self.y_train,self.y_val = train_test_split(X_train,y_train,test_size=0.15,random_state=2020)\n",
    "    self.e1 = 0\n",
    "    self.e2 = 0\n",
    "    self.adj_model = None\n",
    "    self.weight_model = None\n",
    "  \n",
    "  def get_ks(self,y_true,y_pred):\n",
    "    return ks_2samp(y_pred[y_true==1], y_pred[y_true!=1]).statistic\n",
    "  \n",
    "  def timer(func):\n",
    "    def wrapper(*args,**kwargs): \n",
    "      start = time.time()\n",
    "      result = func(*args,**kwargs)\n",
    "      end = time.time()\n",
    "      print(func.__name__+' 运行时间：','{:.2f}min'.format((end-start)/60))\n",
    "      return result\n",
    "    return wrapper\n",
    "\n",
    "  @timer\n",
    "  def adj_train(self):\n",
    "    xgbp = XGBPipeline(self.X_train,self.X_test,self.y_train,self.y_test)\n",
    "    model,_ = xgbp.gridsearch_para()\n",
    "    e1 = (sum(model.predict_proba(self.X_val)[self.y_val==1])[1] / sum(self.y_val))\n",
    "    self.adj_model = model\n",
    "    self.e1 = e1\n",
    "    self.adj_model_evl(self.X_test,self.y_test,1)\n",
    "    return model,e1\n",
    "  \n",
    "  def adj_predict_proba(self,x,para):\n",
    "    if para == 1:\n",
    "      proba = self.adj_model.predict_proba(x) / self.e1\n",
    "    else:\n",
    "      proba = self.adj_model.predict_proba(x) / self.e2\n",
    "    return proba\n",
    "\n",
    "  def adj_predict(self):\n",
    "    if para == 1:\n",
    "      proba = self.adj_model.predict_proba(x) / self.e1\n",
    "    else:\n",
    "      proba = self.adj_model.predict_proba(x) / self.e2\n",
    "    ypred = 1*(proba>0.5)\n",
    "    return ypred\n",
    "\n",
    "  '''@timer  \n",
    "  def adj_train_all(self):\n",
    "    X_t,X_v,y_t,y_v = train_test_split(pd.concat([self.X_train,self.X_val,self.X_test]),pd.concat([self.y_train,self.y_val,self.y_test]),test_size=0.15,random_state=2020)\n",
    "    xgbp = XGBPipeline(X_t,X_v,y_t,y_v)\n",
    "    model,_ = xgbp.gridsearch_para()\n",
    "    sumpv = sum(model.predict_proba(X_v)[:,1])\n",
    "    val_size = len(X_v)\n",
    "    e1 = sumpv / val_size\n",
    "    return model,e1'''\n",
    "\n",
    "  def adj_model_evl(self,x,true,para):\n",
    "    print('Method1-PROBA_ADJ模型评价：')\n",
    "    pred = self.adj_predict_proba(x,para)\n",
    "    pred_y = pred[:,1]\n",
    "    print ('AUC: %.4f' % metrics.roc_auc_score(true,pred_y))\n",
    "    ypred = (pred_y>=0.5)*1 \n",
    "    print ('ACC: %.4f' % metrics.accuracy_score(true,ypred))\n",
    "    print ('Recall: %.4f' % metrics.recall_score(true,ypred))\n",
    "    print ('Precesion: %.4f' %metrics.precision_score(true,ypred))\n",
    "    print ('F1-score: %.4f' %metrics.f1_score(true,ypred))\n",
    "    print ('KS: %.4f' %self.get_ks(true,ypred))\n",
    "    print('\\n')\n",
    "    print(metrics.confusion_matrix(true,ypred))  "
   ]
  },
  {
   "cell_type": "code",
   "execution_count": 55,
   "metadata": {
    "colab": {},
    "colab_type": "code",
    "id": "BN-gHR0CqsJ2"
   },
   "outputs": [],
   "source": [
    "from sklearn.model_selection import train_test_split\n",
    "X_train,X_test,y_train,y_test = train_test_split(X,y,test_size=0.2,random_state=2020)"
   ]
  },
  {
   "cell_type": "code",
   "execution_count": 56,
   "metadata": {
    "colab": {},
    "colab_type": "code",
    "id": "IpVYI9OBrb3K"
   },
   "outputs": [],
   "source": [
    "padj = PUAdjProba(X_train,X_test,y_train,y_test)"
   ]
  },
  {
   "cell_type": "code",
   "execution_count": 57,
   "metadata": {
    "colab": {
     "base_uri": "https://localhost:8080/",
     "height": 373
    },
    "colab_type": "code",
    "id": "Q9vXrF6CrqV4",
    "outputId": "d181cc83-3683-4858-c8f3-630c0a220e78"
   },
   "outputs": [
    {
     "name": "stdout",
     "output_type": "stream",
     "text": [
      "[02:38:53] WARNING: /workspace/src/learner.cc:194: DANGER AHEAD: You have manually specified `updater` parameter. The `tree_method` parameter will be ignored. Incorrect sequence of updaters will produce undefined behavior. For common uses, we recommend using `tree_method` parameter instead.\n",
      "[02:39:40] WARNING: /workspace/src/learner.cc:194: DANGER AHEAD: You have manually specified `updater` parameter. The `tree_method` parameter will be ignored. Incorrect sequence of updaters will produce undefined behavior. For common uses, we recommend using `tree_method` parameter instead.\n",
      "[02:40:42] WARNING: /workspace/src/learner.cc:194: DANGER AHEAD: You have manually specified `updater` parameter. The `tree_method` parameter will be ignored. Incorrect sequence of updaters will produce undefined behavior. For common uses, we recommend using `tree_method` parameter instead.\n",
      "[02:41:15] WARNING: /workspace/src/learner.cc:194: DANGER AHEAD: You have manually specified `updater` parameter. The `tree_method` parameter will be ignored. Incorrect sequence of updaters will produce undefined behavior. For common uses, we recommend using `tree_method` parameter instead.\n",
      "[02:41:48] WARNING: /workspace/src/learner.cc:194: DANGER AHEAD: You have manually specified `updater` parameter. The `tree_method` parameter will be ignored. Incorrect sequence of updaters will produce undefined behavior. For common uses, we recommend using `tree_method` parameter instead.\n",
      "[02:41:51] WARNING: /workspace/src/learner.cc:194: DANGER AHEAD: You have manually specified `updater` parameter. The `tree_method` parameter will be ignored. Incorrect sequence of updaters will produce undefined behavior. For common uses, we recommend using `tree_method` parameter instead.\n",
      "train_model运行时间： 3.38\n",
      "gridsearch_para运行时间： 270.88\n",
      "Method1-PROBA_ADJ模型评价：\n",
      "AUC: 0.7966\n",
      "ACC: 0.4771\n",
      "Recall: 0.8986\n",
      "Precesion: 0.0582\n",
      "F1-score: 0.1092\n",
      "KS: 0.3601\n",
      "\n",
      "\n",
      "[[1846 2154]\n",
      " [  15  133]]\n",
      "adj_train 运行时间： 4.52min\n"
     ]
    }
   ],
   "source": [
    "model_t,e_t = padj.adj_train()"
   ]
  },
  {
   "cell_type": "code",
   "execution_count": 89,
   "metadata": {
    "colab": {
     "base_uri": "https://localhost:8080/",
     "height": 34
    },
    "colab_type": "code",
    "id": "_5ekhdKV2LSM",
    "outputId": "9bffd4e5-d742-4d6d-f9e1-3ff44ffc86bf"
   },
   "outputs": [
    {
     "name": "stdout",
     "output_type": "stream",
     "text": [
      "0.5418538675679789\n"
     ]
    }
   ],
   "source": [
    "print(e_t)\n",
    "u_proba = model_t.predict_proba(X_train.loc[y_train==0])\n",
    "u_weight = (1-e_t)/(e_t)*(u_proba)/(1-u_proba)\n",
    "u_weight = u_weight[:,1]"
   ]
  },
  {
   "cell_type": "code",
   "execution_count": 122,
   "metadata": {
    "colab": {},
    "colab_type": "code",
    "id": "SSX7H2_59SeA"
   },
   "outputs": [],
   "source": [
    "# weight方法不调参，基于adj-proba给出参数\n",
    "params={\n",
    "                'objective': 'binary:logistic',\n",
    "                'metric':'auc',\n",
    "                'max_depth':3,\n",
    "                'subsample':0.7,\n",
    "                'colsample_bytree':0.7,\n",
    "                'min_child_weight':8,\n",
    "                'learning_rate ': 0.005,\n",
    "                'nthread':-1,\n",
    "                'num_round':70,\n",
    "                'updater':'grow_gpu'}"
   ]
  },
  {
   "cell_type": "code",
   "execution_count": 144,
   "metadata": {
    "colab": {},
    "colab_type": "code",
    "id": "gROJN3fg4pEO"
   },
   "outputs": [],
   "source": [
    "from scipy.stats import ks_2samp\n",
    "from xgboost import XGBClassifier\n",
    "import xgboost as xgb\n",
    "from sklearn.model_selection import KFold\n",
    "from sklearn.model_selection import GridSearchCV\n",
    "from sklearn import metrics\n",
    "\n",
    "import time\n",
    "from pprint import pprint\n",
    "class PUweight():\n",
    "    def __init__(self,X_train,X_test,y_train,y_test,weight,para):\n",
    "        self.X_train = X_train\n",
    "        self.y_train = y_train       \n",
    "        self.X_test = X_test    \n",
    "        self.y_test = y_test\n",
    "        self.weight = weight\n",
    "        self.para = para\n",
    "        self.dtrain = None\n",
    "        self.dtest = xgb.DMatrix(self.X_test,self.y_test)\n",
    "\n",
    "    def get_ks(self,y_true,y_pred):\n",
    "        return ks_2samp(y_pred[y_true==1], y_pred[y_true!=1]).statistic\n",
    "    \n",
    "    def timer (func):\n",
    "      def wrapper(*args,**kwargs): \n",
    "          start = time.time()\n",
    "          result = func(*args,**kwargs)\n",
    "          end = time.time()\n",
    "          print(func.__name__+'运行时间：','{:.2f}'.format(end-start))\n",
    "          return result\n",
    "      return wrapper\n",
    "\n",
    "   \n",
    "    @timer\n",
    "    def train_model(self):\n",
    "        X2train = pd.concat([X_train.loc[y_train==1],X_train.loc[y_train==0],X_train.loc[y_train==0]])\n",
    "        y2train = np.hstack([np.ones((1,len(X_train)))[0],np.zeros((1,len(X_train.loc[y_train==0])))[0]])\n",
    "        w2train = np.hstack([np.ones((1,len(X_train.loc[y_train==1])))[0],self.weight,(1-self.weight)])\n",
    "        self.dtrain = xgb.DMatrix(X2train,y2train,weight=w2train)\n",
    "        model = xgb.train(self.para,self.dtrain)\n",
    "        self.adj_model_evl(model)\n",
    "        return model\n",
    "\n",
    "    def adj_model_evl(self,model):\n",
    "      print('Method1-Weight_ADJ模型评价：')\n",
    "      pred = model.predict(self.dtest)\n",
    "      true = self.y_test\n",
    "      print(pred)\n",
    "      pred_y = pred\n",
    "      print ('AUC: %.4f' % metrics.roc_auc_score(true,pred_y))\n",
    "      ypred = (pred_y>=0.5)*1 \n",
    "      print ('ACC: %.4f' % metrics.accuracy_score(true,ypred))\n",
    "      print ('Recall: %.4f' % metrics.recall_score(true,ypred))\n",
    "      print ('Precesion: %.4f' %metrics.precision_score(true,ypred))\n",
    "      print ('F1-score: %.4f' %metrics.f1_score(true,ypred))\n",
    "      print ('KS: %.4f' %self.get_ks(true,ypred))\n",
    "      print('\\n')\n",
    "      print(metrics.confusion_matrix(true,ypred))      \n",
    "    "
   ]
  },
  {
   "cell_type": "code",
   "execution_count": 145,
   "metadata": {
    "colab": {},
    "colab_type": "code",
    "id": "8wVXvw14CLs_"
   },
   "outputs": [],
   "source": [
    "puw = PUweight(X_train,X_test,y_train,y_test,u_weight,params)"
   ]
  },
  {
   "cell_type": "code",
   "execution_count": 147,
   "metadata": {
    "colab": {
     "base_uri": "https://localhost:8080/",
     "height": 272
    },
    "colab_type": "code",
    "id": "OzpYFZGlCG9q",
    "outputId": "7d94fb1e-b34f-4b57-c4e5-cf450c1f939a"
   },
   "outputs": [
    {
     "name": "stdout",
     "output_type": "stream",
     "text": [
      "[03:48:25] WARNING: /workspace/src/learner.cc:194: DANGER AHEAD: You have manually specified `updater` parameter. The `tree_method` parameter will be ignored. Incorrect sequence of updaters will produce undefined behavior. For common uses, we recommend using `tree_method` parameter instead.\n",
      "Method1-Weight_ADJ模型评价：\n",
      "[0.24033266 0.65861255 0.30434465 ... 0.275582   0.43676144 0.29959998]\n",
      "AUC: 0.7360\n",
      "ACC: 0.6061\n",
      "Recall: 0.7230\n",
      "Precesion: 0.0629\n",
      "F1-score: 0.1158\n",
      "KS: 0.3247\n",
      "\n",
      "\n",
      "[[2407 1593]\n",
      " [  41  107]]\n",
      "train_model运行时间： 6.02\n"
     ]
    }
   ],
   "source": [
    "modelw = puw.train_model()"
   ]
  }
 ],
 "metadata": {
  "accelerator": "GPU",
  "colab": {
   "collapsed_sections": [],
   "machine_shape": "hm",
   "name": "Semi_simple",
   "provenance": []
  },
  "kernelspec": {
   "display_name": "Python 3",
   "language": "python",
   "name": "python3"
  },
  "language_info": {
   "codemirror_mode": {
    "name": "ipython",
    "version": 3
   },
   "file_extension": ".py",
   "mimetype": "text/x-python",
   "name": "python",
   "nbconvert_exporter": "python",
   "pygments_lexer": "ipython3",
   "version": "3.6.10"
  }
 },
 "nbformat": 4,
 "nbformat_minor": 4
}
